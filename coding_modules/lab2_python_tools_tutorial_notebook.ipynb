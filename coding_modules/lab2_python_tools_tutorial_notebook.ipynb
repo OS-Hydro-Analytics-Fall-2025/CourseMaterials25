{
 "cells": [
  {
   "cell_type": "markdown",
   "metadata": {
    "tags": []
   },
   "source": [
    "# Welcome everybody!\n",
    "\n",
    "## Today we will learn python!\n",
    "\n",
    "As you saw this is a jupyter notebook. It has \"cells\" which are small chunks of code that can be run individuall\n",
    "\n",
    "You can interact with the outputs easily, making it very clear what has run and what happened\n",
    "\n",
    "Right now I am writing markdown. Jupyter notebooks + markdown are a great way to document your code and workflows.\n",
    "\n",
    "I will talk about markdown when we cover Jupyter notebooks later in the semester in more detail.\n",
    "\n",
    "We will use it for in class tutorials and homeworks.\n",
    "\n",
    "## Okay, diving in, here's python\n",
    "\n",
    "## 1. First off, you can do math with python"
   ]
  },
  {
   "cell_type": "code",
   "execution_count": null,
   "metadata": {
    "tags": []
   },
   "outputs": [],
   "source": [
    "5+3"
   ]
  },
  {
   "cell_type": "code",
   "execution_count": null,
   "metadata": {},
   "outputs": [],
   "source": [
    "5*3"
   ]
  },
  {
   "cell_type": "code",
   "execution_count": null,
   "metadata": {},
   "outputs": [],
   "source": [
    "(5+3)*8"
   ]
  },
  {
   "cell_type": "code",
   "execution_count": null,
   "metadata": {},
   "outputs": [],
   "source": [
    "(8*3)/5.3"
   ]
  },
  {
   "cell_type": "markdown",
   "metadata": {
    "tags": []
   },
   "source": [
    "# All of the above are python \"statements\" which is just a single thing to run\n",
    "##  2.1. You can also assign values to variables"
   ]
  },
  {
   "cell_type": "code",
   "execution_count": null,
   "metadata": {},
   "outputs": [],
   "source": [
    "x = 5\n",
    "y = 3\n",
    "x*y"
   ]
  },
  {
   "cell_type": "markdown",
   "metadata": {
    "tags": []
   },
   "source": [
    "## 2.2. Variables can be updated!"
   ]
  },
  {
   "cell_type": "code",
   "execution_count": null,
   "metadata": {},
   "outputs": [],
   "source": [
    "x, y"
   ]
  },
  {
   "cell_type": "code",
   "execution_count": null,
   "metadata": {},
   "outputs": [],
   "source": [
    "x = x * 2\n"
   ]
  },
  {
   "cell_type": "code",
   "execution_count": null,
   "metadata": {},
   "outputs": [],
   "source": [
    "x"
   ]
  },
  {
   "cell_type": "code",
   "execution_count": null,
   "metadata": {},
   "outputs": [],
   "source": [
    "x += 1 #equivalent to x = x+1"
   ]
  },
  {
   "cell_type": "code",
   "execution_count": null,
   "metadata": {},
   "outputs": [],
   "source": [
    "x"
   ]
  },
  {
   "cell_type": "code",
   "execution_count": null,
   "metadata": {},
   "outputs": [],
   "source": [
    "x*y"
   ]
  },
  {
   "cell_type": "markdown",
   "metadata": {},
   "source": [
    "# Data types\n",
    "\n",
    "So far you've just seen some basic math\n",
    "\n",
    "But clearly programs work on more than just arithmetic.\n",
    "\n",
    "Programming languages (almost) always encode different data in different ways, called \"types\"\n",
    "\n",
    "And let you operate on these \"types\" in specific ways\n",
    "\n",
    "So let's dive in!"
   ]
  },
  {
   "cell_type": "markdown",
   "metadata": {
    "tags": []
   },
   "source": [
    "## 3.1. Strings\n",
    "\n",
    "Aside from numbers, strings are a very basic data type.\n",
    "\n",
    "Strings encode text. They are called \"strings\" because they are \"strings of characters\"\n",
    "\n",
    "Strings in python can be enclosed in either single (') or double (\") quotes, but generally single is preferred"
   ]
  },
  {
   "cell_type": "code",
   "execution_count": null,
   "metadata": {},
   "outputs": [],
   "source": [
    "\"Hello\""
   ]
  },
  {
   "cell_type": "code",
   "execution_count": null,
   "metadata": {},
   "outputs": [],
   "source": [
    "'Hello'"
   ]
  },
  {
   "cell_type": "code",
   "execution_count": null,
   "metadata": {},
   "outputs": [],
   "source": [
    "greeting = 'hello'"
   ]
  },
  {
   "cell_type": "code",
   "execution_count": null,
   "metadata": {},
   "outputs": [],
   "source": [
    "print(greeting)"
   ]
  },
  {
   "cell_type": "code",
   "execution_count": null,
   "metadata": {},
   "outputs": [],
   "source": [
    "name = 'ERT474_574'"
   ]
  },
  {
   "cell_type": "code",
   "execution_count": null,
   "metadata": {},
   "outputs": [],
   "source": [
    "print(greeting + ' ' + name)"
   ]
  },
  {
   "cell_type": "markdown",
   "metadata": {
    "tags": []
   },
   "source": [
    "## 3.2. So what happens if you add a string and number?"
   ]
  },
  {
   "cell_type": "code",
   "execution_count": null,
   "metadata": {},
   "outputs": [],
   "source": [
    "5 + greeting"
   ]
  },
  {
   "cell_type": "code",
   "execution_count": null,
   "metadata": {},
   "outputs": [],
   "source": [
    "str(5) + greeting"
   ]
  },
  {
   "cell_type": "markdown",
   "metadata": {
    "tags": []
   },
   "source": [
    "## 3.3. And now for a complication..."
   ]
  },
  {
   "cell_type": "code",
   "execution_count": null,
   "metadata": {},
   "outputs": [],
   "source": [
    "5 * greeting"
   ]
  },
  {
   "cell_type": "markdown",
   "metadata": {
    "tags": []
   },
   "source": [
    "# An important lesson\n",
    "\n",
    "In python, types, while generally hidden, are very important.\n",
    "\n",
    "Always know what your variables's data types are\n",
    "\n",
    "You can find out by wrapping the variable in `type(...)`\n"
   ]
  },
  {
   "cell_type": "code",
   "execution_count": null,
   "metadata": {},
   "outputs": [],
   "source": [
    "x, type(x)"
   ]
  },
  {
   "cell_type": "code",
   "execution_count": null,
   "metadata": {},
   "outputs": [],
   "source": [
    "greeting, type(greeting)"
   ]
  },
  {
   "cell_type": "markdown",
   "metadata": {},
   "source": [
    "# So, what types are out there?\n",
    "\n",
    "Python has a few basic data types which are very common to use\n",
    "\n",
    "* `int`: Integers, or whole numbers\n",
    "* `float`: Floating point numbers, or real numbers (those which decimals)\n",
    "* `str`: Strings, or text data\n",
    "* `tuple`: You just saw one of these, it's a sequence denoted by parentheses (more later)\n",
    "* `list`: Also a sequence, but with different properties than a `tuple`\n",
    "* `dict`: Dictionaries, maps a `key` to a `value`, very useful as a lookup table\n",
    "* `bool`: Boolean values, basically just True or False - same concept as binary, named after George Boole\n",
    "\n",
    "Ignoring `int` and `float` for the moment, let's go through these\n",
    "\n",
    "## 3.4. Strings (`str`)\n",
    "\n",
    "There are many things you can do with text data.\n",
    "\n",
    "To show this I'll create a variable called `message`"
   ]
  },
  {
   "cell_type": "code",
   "execution_count": null,
   "metadata": {},
   "outputs": [],
   "source": [
    "message = 'This is a message'"
   ]
  },
  {
   "cell_type": "code",
   "execution_count": null,
   "metadata": {},
   "outputs": [],
   "source": [
    "type(message)"
   ]
  },
  {
   "cell_type": "markdown",
   "metadata": {},
   "source": [
    "If you want to get a particular character of a string you can \"index\" it with square brackets, and an integer value starting at `0`.\n",
    "\n",
    "You can also start from the end by using negative integers to index, starting at `-1`"
   ]
  },
  {
   "cell_type": "code",
   "execution_count": null,
   "metadata": {},
   "outputs": [],
   "source": [
    "message[0]"
   ]
  },
  {
   "cell_type": "code",
   "execution_count": null,
   "metadata": {},
   "outputs": [],
   "source": [
    "message[1]"
   ]
  },
  {
   "cell_type": "code",
   "execution_count": null,
   "metadata": {},
   "outputs": [],
   "source": [
    "message[3]"
   ]
  },
  {
   "cell_type": "code",
   "execution_count": null,
   "metadata": {},
   "outputs": [],
   "source": [
    "message[-1]"
   ]
  },
  {
   "cell_type": "code",
   "execution_count": null,
   "metadata": {},
   "outputs": [],
   "source": [
    "message[-2]"
   ]
  },
  {
   "cell_type": "markdown",
   "metadata": {},
   "source": [
    "You can also do things like `split` the string by acting on it with the `.` operator"
   ]
  },
  {
   "cell_type": "code",
   "execution_count": null,
   "metadata": {},
   "outputs": [],
   "source": [
    "message.split(' ')"
   ]
  },
  {
   "cell_type": "markdown",
   "metadata": {},
   "source": [
    "# 3.5. Wait a second, what's that `[` and `]` business?\n",
    "\n",
    "This brings us to the two sequence types, `tuples` and `lists`.\n",
    "\n",
    "Generally, when in doubt use a `list` over a `tuple`\n",
    "\n",
    "Both are collections of other types of data\n",
    "\n",
    "`lists` are denoted with square brackets, while `tuples` have parentheses"
   ]
  },
  {
   "cell_type": "code",
   "execution_count": null,
   "metadata": {},
   "outputs": [],
   "source": [
    "type(message.split(' '))"
   ]
  },
  {
   "cell_type": "code",
   "execution_count": null,
   "metadata": {},
   "outputs": [],
   "source": [
    "# A list\n",
    "my_list = [1, 2, 3]\n",
    "\n",
    "# A tuple\n",
    "my_tuple = (4, 5, 6)"
   ]
  },
  {
   "cell_type": "code",
   "execution_count": null,
   "metadata": {},
   "outputs": [],
   "source": [
    "my_list"
   ]
  },
  {
   "cell_type": "code",
   "execution_count": null,
   "metadata": {},
   "outputs": [],
   "source": [
    "my_tuple"
   ]
  },
  {
   "cell_type": "markdown",
   "metadata": {},
   "source": [
    "## 3.6. Both lists and tuples can be indexed"
   ]
  },
  {
   "cell_type": "code",
   "execution_count": null,
   "metadata": {},
   "outputs": [],
   "source": [
    "my_list[0]"
   ]
  },
  {
   "cell_type": "code",
   "execution_count": null,
   "metadata": {},
   "outputs": [],
   "source": [
    "my_tuple[0]"
   ]
  },
  {
   "cell_type": "markdown",
   "metadata": {},
   "source": [
    "## 3.7. Both can be extended by \"adding\" another object"
   ]
  },
  {
   "cell_type": "code",
   "execution_count": null,
   "metadata": {},
   "outputs": [],
   "source": [
    "my_list + [4, 5, 6]"
   ]
  },
  {
   "cell_type": "code",
   "execution_count": null,
   "metadata": {},
   "outputs": [],
   "source": [
    "my_tuple + (4, 5, 6)"
   ]
  },
  {
   "cell_type": "markdown",
   "metadata": {
    "tags": []
   },
   "source": [
    "# 3.8. You can create blank versions of each with keywords\n",
    "\n",
    "This is a bit of a preview of \"functions\" but check these defaults"
   ]
  },
  {
   "cell_type": "code",
   "execution_count": null,
   "metadata": {},
   "outputs": [],
   "source": [
    "empty_list = list()\n",
    "empty_list = []\n",
    "\n",
    "empty_tuple = tuple()\n",
    "empty_tuple = ()"
   ]
  },
  {
   "cell_type": "markdown",
   "metadata": {
    "tags": []
   },
   "source": [
    "# 3.9. Wait! But what's the difference between `tuple` and `list`?\n",
    "\n",
    "`tuples` are <b>immutable</b> objects, `lists` are <b>mutable</b>. \n",
    "\n",
    "This means tuples cannot be changed while lists can be modified"
   ]
  },
  {
   "cell_type": "code",
   "execution_count": null,
   "metadata": {},
   "outputs": [],
   "source": [
    "my_list[0] = 0"
   ]
  },
  {
   "cell_type": "code",
   "execution_count": null,
   "metadata": {},
   "outputs": [],
   "source": [
    "my_list"
   ]
  },
  {
   "cell_type": "code",
   "execution_count": null,
   "metadata": {},
   "outputs": [],
   "source": [
    "my_tuple[0] = 1"
   ]
  },
  {
   "cell_type": "markdown",
   "metadata": {
    "tags": []
   },
   "source": [
    "## 3.10. A bit more complication when there is only one element in `tuple` and `list`..."
   ]
  },
  {
   "cell_type": "code",
   "execution_count": null,
   "metadata": {},
   "outputs": [],
   "source": [
    "type(['str'])"
   ]
  },
  {
   "cell_type": "code",
   "execution_count": null,
   "metadata": {},
   "outputs": [],
   "source": [
    "type(('str'))"
   ]
  },
  {
   "cell_type": "code",
   "execution_count": null,
   "metadata": {},
   "outputs": [],
   "source": [
    "type(('str',))"
   ]
  },
  {
   "cell_type": "code",
   "execution_count": null,
   "metadata": {},
   "outputs": [],
   "source": [
    "my_tuple + ('str')"
   ]
  },
  {
   "cell_type": "code",
   "execution_count": null,
   "metadata": {},
   "outputs": [],
   "source": [
    "my_tuple + ('str',)"
   ]
  },
  {
   "cell_type": "markdown",
   "metadata": {
    "tags": []
   },
   "source": [
    "# Before getting into functions and all that we gotta talk booleans and dictionaries\n",
    "\n",
    "## 3.11. First, booleans\n",
    "\n",
    "Booleans, or just `bool`s are binary variables.\n",
    "\n",
    "They can take 2 values: `True` or `False` (note capitalization)\n",
    "\n",
    "You can do basic elementary logic with them"
   ]
  },
  {
   "cell_type": "code",
   "execution_count": null,
   "metadata": {},
   "outputs": [],
   "source": [
    "yes = True\n",
    "no = False\n",
    "\n",
    "yes or no"
   ]
  },
  {
   "cell_type": "code",
   "execution_count": null,
   "metadata": {},
   "outputs": [],
   "source": [
    "yes and no"
   ]
  },
  {
   "cell_type": "code",
   "execution_count": null,
   "metadata": {},
   "outputs": [],
   "source": [
    "yes and True"
   ]
  },
  {
   "cell_type": "markdown",
   "metadata": {},
   "source": [
    "## 3.12. You can also convert logical statements about other data types into booleans"
   ]
  },
  {
   "cell_type": "code",
   "execution_count": null,
   "metadata": {},
   "outputs": [],
   "source": [
    "30 < 5"
   ]
  },
  {
   "cell_type": "code",
   "execution_count": null,
   "metadata": {},
   "outputs": [],
   "source": [
    "x < 100"
   ]
  },
  {
   "cell_type": "code",
   "execution_count": null,
   "metadata": {},
   "outputs": [],
   "source": [
    "'yes' in 'yes or no'"
   ]
  },
  {
   "cell_type": "code",
   "execution_count": null,
   "metadata": {},
   "outputs": [],
   "source": [
    "'yes' in message"
   ]
  },
  {
   "cell_type": "markdown",
   "metadata": {},
   "source": [
    "## 3.13. And now, dictionaries\n",
    "\n",
    "Dictionaries are awesome, and useful in a huge number of data science tasks\n",
    "\n",
    "They are like `lists` and `tuples` in that they contain a number of other things\n",
    "\n",
    "But, they have the concept of a `key` and a `value`.\n",
    "\n",
    "It's basically a lookup table\n",
    "\n",
    "You can make the `keys` any data type you want rather than just integers like `lists` and `tuples`\n",
    "\n",
    "The syntax to create one is with curly braces `{}` or with the `dict()` keyword"
   ]
  },
  {
   "cell_type": "code",
   "execution_count": null,
   "metadata": {},
   "outputs": [],
   "source": [
    "my_new_dict = {}\n",
    "\n",
    "my_new_dict[0] = 'first'\n",
    "my_new_dict['second'] = 2\n",
    "\n",
    "my_new_dict"
   ]
  },
  {
   "cell_type": "code",
   "execution_count": null,
   "metadata": {},
   "outputs": [],
   "source": [
    "my_new_dict['second']"
   ]
  },
  {
   "cell_type": "code",
   "execution_count": null,
   "metadata": {},
   "outputs": [],
   "source": [
    "my_new_dict(4)"
   ]
  },
  {
   "cell_type": "code",
   "execution_count": null,
   "metadata": {},
   "outputs": [],
   "source": [
    "my_new_dict['asdf']"
   ]
  },
  {
   "cell_type": "code",
   "execution_count": null,
   "metadata": {},
   "outputs": [],
   "source": [
    "print(my_new_dict.keys())"
   ]
  },
  {
   "cell_type": "code",
   "execution_count": null,
   "metadata": {},
   "outputs": [],
   "source": [
    "print(my_new_dict.values())"
   ]
  },
  {
   "cell_type": "markdown",
   "metadata": {
    "tags": []
   },
   "source": [
    "# 4.1. No functions yet, just loops\n",
    "\n",
    "Loops are ways of doing something multiple times.\n",
    "\n",
    "There are 2 main kinds. `while` and `for`\n",
    "\n",
    "`while` specifies a condition (which evaluates to a `bool`) to keep going\n",
    "\n",
    "`for` specifies the sequence of things you want to operate on\n",
    "\n",
    "Imagine you wanted to add up numbers. Typing all this out would be terribly boring"
   ]
  },
  {
   "cell_type": "code",
   "execution_count": null,
   "metadata": {},
   "outputs": [],
   "source": [
    "x = 0\n",
    "x = x + 1\n",
    "x = x + 2\n",
    "x = x + 3\n",
    "x = x + 4\n",
    "x"
   ]
  },
  {
   "cell_type": "code",
   "execution_count": null,
   "metadata": {},
   "outputs": [],
   "source": [
    "for i in range(5):\n",
    "    x += i\n",
    "x"
   ]
  },
  {
   "cell_type": "code",
   "execution_count": null,
   "metadata": {},
   "outputs": [],
   "source": [
    "limit = 30\n",
    "x = 0\n",
    "x <= limit"
   ]
  },
  {
   "cell_type": "code",
   "execution_count": null,
   "metadata": {},
   "outputs": [],
   "source": [
    "limit = 30\n",
    "x = 0\n",
    "n = 1\n",
    "\n",
    "while x <= limit:\n",
    "    print(\"what is the current x value? %i\"%x)\n",
    "    x = x + n \n",
    "    print(\"after adding %i, x=%i\"%(n,x))\n",
    "    n = n + 1\n",
    "    \n",
    "print()\n",
    "print('limit exceeded! x is now:')\n",
    "print(x)\n"
   ]
  },
  {
   "cell_type": "markdown",
   "metadata": {},
   "source": [
    "## 4.2. For loops operate on sequences directly\n",
    "\n",
    "## To get a stream of increasing numbers you can use `range`:"
   ]
  },
  {
   "cell_type": "code",
   "execution_count": null,
   "metadata": {},
   "outputs": [],
   "source": [
    "for i in range(5):\n",
    "    print(i, message[i])\n",
    "    "
   ]
  },
  {
   "cell_type": "markdown",
   "metadata": {
    "tags": []
   },
   "source": [
    "## 4.3. Additionally, it's very common to get the length of an object via the `len` function and put that into `range` (Shoutout to Lauren Cutler on this one)"
   ]
  },
  {
   "cell_type": "code",
   "execution_count": null,
   "metadata": {},
   "outputs": [],
   "source": [
    "for i in range(len(my_tuple)):\n",
    "    print(i, my_tuple[i])"
   ]
  },
  {
   "cell_type": "markdown",
   "metadata": {},
   "source": [
    "## 4.4. You also can put anything that looks like a sequence of other things into the `for` loop directly"
   ]
  },
  {
   "cell_type": "code",
   "execution_count": null,
   "metadata": {},
   "outputs": [],
   "source": [
    "all_my_values = [5,2,9]\n",
    "for v in all_my_values:\n",
    "    print(v, v*v)"
   ]
  },
  {
   "cell_type": "markdown",
   "metadata": {},
   "source": [
    "## 4.5. Finally, what if we want iterate a sequence and their corresponding counts in `for` loop?\n",
    "\n",
    "### We use `enumerate`"
   ]
  },
  {
   "cell_type": "code",
   "execution_count": null,
   "metadata": {},
   "outputs": [],
   "source": [
    "all_my_values = [5,2,9]\n",
    "for i,v in enumerate(all_my_values):\n",
    "    print(i, v, v*v)"
   ]
  },
  {
   "cell_type": "markdown",
   "metadata": {
    "tags": []
   },
   "source": [
    "## 5. Functions\n",
    "\n",
    "Functions are much like math functions\n",
    "\n",
    "They take an input and do something with it to produce an output"
   ]
  },
  {
   "cell_type": "code",
   "execution_count": null,
   "metadata": {},
   "outputs": [],
   "source": [
    "# def starts a new function\n",
    "# | \n",
    "# |  this is the name of the new function\n",
    "# |  |\n",
    "# |  |          this is an input variable to the function\n",
    "# |  |          |\n",
    "# v  v          v\n",
    "def my_function(in_var):\n",
    "    intermediate = in_var * 8\n",
    "    out_var = intermediate + 1\n",
    "    return out_var\n",
    "#          ^\n",
    "#          |\n",
    "#          this is what will come out"
   ]
  },
  {
   "cell_type": "code",
   "execution_count": null,
   "metadata": {},
   "outputs": [],
   "source": [
    "def my_function(in_var):\n",
    "    intermediate = in_var * 8\n",
    "    out_var = intermediate + 1\n",
    "    return out_var"
   ]
  },
  {
   "cell_type": "code",
   "execution_count": null,
   "metadata": {},
   "outputs": [],
   "source": [
    "my_function(0)"
   ]
  },
  {
   "cell_type": "code",
   "execution_count": null,
   "metadata": {},
   "outputs": [],
   "source": [
    "my_function(4)"
   ]
  },
  {
   "cell_type": "code",
   "execution_count": null,
   "metadata": {},
   "outputs": [],
   "source": [
    "my_function(x)"
   ]
  },
  {
   "cell_type": "code",
   "execution_count": null,
   "metadata": {},
   "outputs": [],
   "source": [
    "outs = []\n",
    "for i in range(4):\n",
    "    outs.append(my_function(i))\n",
    "    \n",
    "print(outs)"
   ]
  },
  {
   "cell_type": "markdown",
   "metadata": {
    "tags": []
   },
   "source": [
    "# 6. Importing other modules\n",
    "\n",
    "One of the reasons python has become very popular in data science is the number of useful packages it has\n",
    "\n",
    "We will only look at a couple today that are included in your basic python installation\n",
    "\n",
    "Later in the semester we'll look at some developed by the data science community\n",
    "\n",
    "For now, we can look at the `import` keyword"
   ]
  },
  {
   "cell_type": "code",
   "execution_count": null,
   "metadata": {},
   "outputs": [],
   "source": [
    "import math"
   ]
  },
  {
   "cell_type": "code",
   "execution_count": null,
   "metadata": {},
   "outputs": [],
   "source": [
    "math.sin"
   ]
  },
  {
   "cell_type": "code",
   "execution_count": null,
   "metadata": {},
   "outputs": [],
   "source": [
    "math.cos(math.pi)"
   ]
  },
  {
   "cell_type": "markdown",
   "metadata": {},
   "source": [
    "## 6.1. How do we know what functions we get from importing a module?\n",
    "\n",
    "You can run the `dir` function on the module name directly\n",
    "\n",
    "Ignoring the ones that start with `__` (it's a weird python thing) you can see all of our basic math functions "
   ]
  },
  {
   "cell_type": "code",
   "execution_count": null,
   "metadata": {},
   "outputs": [],
   "source": [
    "dir(math)"
   ]
  },
  {
   "cell_type": "markdown",
   "metadata": {},
   "source": [
    "# We can also use `<Tab>`\n",
    "\n",
    "Type the module name follow by a period sign, and press \\<Tab>"
   ]
  },
  {
   "cell_type": "code",
   "execution_count": null,
   "metadata": {},
   "outputs": [],
   "source": [
    "math."
   ]
  },
  {
   "cell_type": "markdown",
   "metadata": {},
   "source": [
    "## Practice 1.1\n",
    "Please write a function `replicate_strings`\n",
    "\n",
    "This function will duplicate the string X times. \n",
    "\n",
    "For example, list1 = ['a', 'b', 'c'], list2 = [1,2,3],\n",
    "\n",
    "it will output a third string ['a', 'bb', 'ccc'].\n"
   ]
  },
  {
   "cell_type": "code",
   "execution_count": null,
   "metadata": {},
   "outputs": [],
   "source": [
    "# Please insert your code here.\n"
   ]
  },
  {
   "cell_type": "markdown",
   "metadata": {},
   "source": [
    "## Practice 1.2\n",
    "Please expand the function above to a more robust function. \n",
    "For example, this function needs to report corresponding error messages, when following situations happened:\n",
    "1. components in list1 are not string\n",
    "2. components in list2 are not integers\n",
    "3. list1 and list2 does not have the same length\n"
   ]
  },
  {
   "cell_type": "code",
   "execution_count": 81,
   "metadata": {},
   "outputs": [],
   "source": [
    "# Please insert your code here"
   ]
  },
  {
   "cell_type": "markdown",
   "metadata": {},
   "source": [
    "## That's all for now\n",
    "\n",
    "So that was a whirlwind tour of python. Some of the concepts might still be a bit hazy or confusing, but that's okay.\n",
    "\n",
    "If you want to explore further the official python tutorial has a ton of extra content: https://docs.python.org/3/tutorial/\n"
   ]
  }
 ],
 "metadata": {
  "kernelspec": {
   "display_name": "Python 3",
   "language": "python",
   "name": "python3"
  },
  "language_info": {
   "codemirror_mode": {
    "name": "ipython",
    "version": 3
   },
   "file_extension": ".py",
   "mimetype": "text/x-python",
   "name": "python",
   "nbconvert_exporter": "python",
   "pygments_lexer": "ipython3",
   "version": "3.9.6"
  }
 },
 "nbformat": 4,
 "nbformat_minor": 4
}
